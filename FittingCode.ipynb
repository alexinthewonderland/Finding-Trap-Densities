{
 "cells": [
  {
   "cell_type": "code",
   "execution_count": null,
   "metadata": {},
   "outputs": [],
   "source": [
    "##Importing the needed libraries\n",
    "import pandas as pd\n",
    "from matplotlib import pyplot as plt\n",
    "from scipy.optimize import curve_fit\n",
    "import numpy as np\n",
    "\n",
    "##Inputting and reading the file of the data\n",
    "input_filename = input(\"Insert the file name: \")\n",
    "input_range = int(input(\"How many data samples are there?: \"))\n",
    "input_unit_tipl = input(\"Insert the unit of TIPL: \") # TIPL is the Intensity of the Photoluminescence\n",
    "input_unit_density = input(\"Insert the unit of Carrier Density: \")\n",
    "\n",
    "data  = pd.read_csv(\"{0}.csv\".format(input_filename))\n",
    "\n",
    "##Assinging the fitting function and parameters\n",
    "def func(x, trap_density, a,k):\n",
    "    #return (trap_density*(1-np.exp(-1*constant*x)))\n",
    "    return (((trap_density*10**17)*(1-np.exp(-1*a*x/k)))) #You can change the fitting function and variables accordingly\n",
    "\n",
    "yData = data.carrier_density #set yData to be the carrier density values for the y-axis\n",
    "for i in range(input_range):\n",
    "    yData[i] = yData[i]*10**17\n",
    "\n",
    "# yData = yData[a:b]\n",
    "# xData = data.time_pl[a:b]\n",
    "# xFit = data.time_pl[a:b]\n",
    "\n",
    "xData = data.time_pl #set xData to be the Time Integrated PL for the x-axis\n",
    "xFit = data.time_pl #set xFit to the x values for the fitting plot\n",
    "\n",
    "##Plotting the Data\n",
    "plt.plot(xData, yData, 'bo', label = \"experimental-data\" )\n",
    "plt.xlabel(\"Time-Integrated PL Intensity (\" + input_unit_tipl + \")\")\n",
    "plt.ylabel(\"Carrier Density (\" + input_unit_density + \")\")\n",
    "\n",
    "plt.yscale(\"log\") #Assign the y-scale to become a log scale\n",
    "plt.xscale(\"log\") #Assign the x-scale to become a log scale\n",
    "\n",
    "##Fitting the Data\n",
    "popt, pcov = curve_fit(func, xData, yData) #intial guesses can be written after the yData\n",
    "plt.plot(xFit, func(xFit, *popt), 'r')\n",
    "\n",
    "##Outputting the fitted Trap and Constant Values\n",
    "for i in range(3):\n",
    "    if (i == 0):\n",
    "        print(\"The trap density value: \" + str(popt[i]))\n",
    "    elif (i==1):\n",
    "        print(\"The lifetime x a_i value: \" + str(popt[i]))\n",
    "    else:\n",
    "        print(\"The constant value: \"+ str(popt[i]))\n",
    "        \n",
    "print(data)"
   ]
  },
  {
   "cell_type": "code",
   "execution_count": 22,
   "metadata": {
    "scrolled": true
   },
   "outputs": [
    {
     "name": "stdout",
     "output_type": "stream",
     "text": [
      "Insert the file name: second_sample\n",
      "[ 1.18836436 30.33082991 28.71599057]\n"
     ]
    },
    {
     "data": {
      "image/png": "[encoded data removed]",
      "text/plain": [
       "<Figure size 432x288 with 1 Axes>"
      ]
     },
     "metadata": {
      "needs_background": "light"
     },
     "output_type": "display_data"
    }
   ],
   "source": [
    "#SLOW TRAP ONE\n",
    "#Reading the file of the data\n",
    "input_filename = input(\"Insert the file name: \")\n",
    "data  = pd.read_csv(\"{0}.csv\".format(input_filename))\n",
    "\n",
    "#Assinging the function and variables\n",
    "def func(x,slowtrap_density,a,k):\n",
    "    #return (trap_density*(1-np.exp(-1*constant*x)))\n",
    "    return (((slowtrap_density*10**17)*(1-np.exp(-1*a*x/k))))\n",
    "\n",
    "yData = data.carrier_density\n",
    "for i in range(20):\n",
    "    yData[i] = yData[i]*10**17\n",
    "    \n",
    "yData = yData[12:20]\n",
    "xData = data.time_pl[12:20]\n",
    "xFit = data.time_pl[12:20]\n",
    "\n",
    "#Plotting the Data\n",
    "plt.plot(xData, yData, 'bo', label = \"experimental-data\" )\n",
    "plt.xlabel(\"Time-Integrated PL Intensity (arbs. unit)\")\n",
    "plt.ylabel(\"Carrier Density (cm^-3)\")\n",
    "\n",
    "    \n",
    "plt.yscale(\"log\") #Assign the y-scale to become a log scale\n",
    "plt.xscale(\"log\")\n",
    "#Fitting the Data\n",
    "popt, pcov = curve_fit(func, xData, yData) #intial guesses can be written after the yData\n",
    "plt.plot(xFit, func(xFit, *popt), 'r')\n",
    "\n",
    "#Outputting the fitted Trap and Constant Values\n",
    "# for i in range(2):\n",
    "#     if (i == 0):\n",
    "#         print(\"This is the trap density value: \" + str(popt[i]))\n",
    "#     else:\n",
    "#         print(\"This is the constant value: \"+ str(popt[i]))\n",
    "\n",
    "print(popt)"
   ]
  },
  {
   "cell_type": "code",
   "execution_count": 24,
   "metadata": {},
   "outputs": [
    {
     "name": "stdout",
     "output_type": "stream",
     "text": [
      "Insert the file name: second_sample\n",
      "[1.93411789e-01 3.93306287e+02]\n"
     ]
    },
    {
     "data": {
      "image/png": "[encoded data removed]",
      "text/plain": [
       "<Figure size 432x288 with 1 Axes>"
      ]
     },
     "metadata": {
      "needs_background": "light"
     },
     "output_type": "display_data"
    }
   ],
   "source": [
    "#FAST TRAP ONE\n",
    "#Reading the file of the data\n",
    "input_filename = input(\"Insert the file name: \")\n",
    "data  = pd.read_csv(\"{0}.csv\".format(input_filename))\n",
    "\n",
    "#Assinging the function and variables\n",
    "def func(x, fasttrap,a):\n",
    "    #return (trap_density*(1-np.exp(-1*constant*x)))\n",
    "    return (((fasttrap*10**17)*(1-np.exp(-1*a*x/28.71599057))))\n",
    "\n",
    "yData = data.carrier_density\n",
    "for i in range(20):\n",
    "    yData[i] = yData[i]*10**17\n",
    "    \n",
    "yData = yData[3:8]\n",
    "xData = data.time_pl[3:8]\n",
    "xFit = data.time_pl[3:8]\n",
    "\n",
    "#Plotting the Data\n",
    "plt.plot(xData, yData, 'bo', label = \"experimental-data\" )\n",
    "plt.xlabel(\"Time-Integrated PL Intensity (arbs. unit)\")\n",
    "plt.ylabel(\"Carrier Density (cm^-3)\")\n",
    "\n",
    "if input_filename == \"first_sample\":\n",
    "    plt.legend([\"PV: Cl-0\", \"Fitted Line\"])\n",
    "elif input_filename == \"second_sample\":\n",
    "    plt.legend([\"PV: Cl-0.5\", \"Fitted Line\"])\n",
    "elif input_filename == \"third_sample\":\n",
    "    plt.legend([\"PV: Cl-1\", \"Fitted Line\"])\n",
    "    \n",
    "plt.yscale(\"log\") #Assign the y-scale to become a log scale\n",
    "#plt.xscale(\"log\")\n",
    "plt.xscale(\"log\")\n",
    "#Fitting the Data\n",
    "popt, pcov = curve_fit(func, xData, yData) #intial guesses can be written after the yData\n",
    "plt.plot(xFit, func(xFit, *popt), 'r')\n",
    "\n",
    "#Outputting the fitted Trap and Constant Values\n",
    "# for i in range(2):\n",
    "#     if (i == 0):\n",
    "#         print(\"This is the trap density value: \" + str(popt[i]))\n",
    "#     else:\n",
    "#         print(\"This is the constant value: \"+ str(popt[i]))\n",
    "\n",
    "print(popt)"
   ]
  },
  {
   "cell_type": "code",
   "execution_count": 3,
   "metadata": {},
   "outputs": [
    {
     "name": "stdout",
     "output_type": "stream",
     "text": [
      "Insert the file name: second_sample\n",
      "[1.05408231 0.04126822]\n"
     ]
    },
    {
     "data": {
      "image/png": "[encoded data removed]",
      "text/plain": [
       "<Figure size 432x288 with 1 Axes>"
      ]
     },
     "metadata": {
      "needs_background": "light"
     },
     "output_type": "display_data"
    }
   ],
   "source": [
    "##THIS IS FOR THE SLOW AND FAST TRAP FITTING\n",
    "\n",
    "#Reading the file of the data\n",
    "input_filename = input(\"Insert the file name: \")\n",
    "data  = pd.read_csv(\"{0}.csv\".format(input_filename))\n",
    "\n",
    "#Assinging the function and variables\n",
    "def func(x,slowtrap,fasttrap):\n",
    "    #return (trap_density*(1-np.exp(-1*constant*x)))\n",
    "    return ((slowtrap*10**17)*(1-np.exp(-1*30.33082991*x/28.71599057)))+((fasttrap*10**17)*(1-np.exp(-1*932.82424254*x/28.71599057))+x*(10**17)/28.71599057)\n",
    "#1.18836436, 120\n",
    "yData = data.carrier_density\n",
    "for i in range(20):\n",
    "    yData[i] = yData[i]*10**17\n",
    "    \n",
    "xData = data.time_pl\n",
    "xFit = data.time_pl\n",
    "\n",
    "#Plotting the Data\n",
    "plt.plot(xData, yData, 'bo', label = \"experimental-data\" )\n",
    "plt.xlabel(\"Time-Integrated PL Intensity (arbs. unit)\")\n",
    "plt.ylabel(\"Carrier Density (cm^-3)\")\n",
    "\n",
    "if input_filename == \"first_sample\":\n",
    "    plt.legend([\"PV: Cl-0\", \"Fitted Line\"])\n",
    "elif input_filename == \"second_sample\":\n",
    "    plt.legend([\"PV: Cl-0.5\", \"Fitted Line\"])\n",
    "elif input_filename == \"third_sample\":\n",
    "    plt.legend([\"PV: Cl-1\", \"Fitted Line\"])\n",
    "    \n",
    "plt.yscale(\"log\") #Assign the y-scale to become a log scale\n",
    "\n",
    "plt.xscale(\"log\")\n",
    "#Fitting the Data\n",
    "popt, pcov = curve_fit(func, xData, yData) #intial guesses can be written after the yData\n",
    "plt.plot(xFit, func(xFit, *popt), 'r')\n",
    "\n",
    "#Outputting the fitted Trap and Constant Values\n",
    "# for i in range(2):\n",
    "#     if (i == 0):\n",
    "#         print(\"This is the trap density value: \" + str(popt[i]))\n",
    "#     else:\n",
    "#         print(\"This is the constant value: \"+ str(popt[i]))\n",
    "\n",
    "print(popt)"
   ]
  },
  {
   "cell_type": "code",
   "execution_count": 20,
   "metadata": {},
   "outputs": [
    {
     "name": "stdout",
     "output_type": "stream",
     "text": [
      "Insert the file name: second_sample\n",
      "[1.03896011 0.0437605 ]\n"
     ]
    },
    {
     "data": {
      "image/png": "[encoded data removed]",
      "text/plain": [
       "<Figure size 432x288 with 1 Axes>"
      ]
     },
     "metadata": {
      "needs_background": "light"
     },
     "output_type": "display_data"
    }
   ],
   "source": [
    "##THIS IS FOR THE SLOW AND FAST TRAP FITTING\n",
    "\n",
    "#Reading the file of the data\n",
    "input_filename = input(\"Insert the file name: \")\n",
    "data  = pd.read_csv(\"{0}.csv\".format(input_filename))\n",
    "\n",
    "#Assinging the function and variables\n",
    "def func(x,slowtrap,fasttrap):\n",
    "    #return (trap_density*(1-np.exp(-1*constant*x)))\n",
    "    return ((slowtrap*10**17)*(1-np.exp(-1*59.03973324*x/53.57689104)))+((fasttrap*10**17)*(1-np.exp(-1*932.82424254*x/53.57689104))+x*(10**17)/53.57689104)\n",
    "#1.18836436, 120\n",
    "yData = data.carrier_density\n",
    "for i in range(20):\n",
    "    yData[i] = yData[i]*10**17\n",
    "    \n",
    "xData = data.time_pl\n",
    "xFit = data.time_pl\n",
    "\n",
    "#Plotting the Data\n",
    "plt.plot(xData, yData, 'bo', label = \"experimental-data\" )\n",
    "plt.xlabel(\"Time-Integrated PL Intensity (arbs. unit)\")\n",
    "plt.ylabel(\"Carrier Density\")\n",
    "\n",
    "if input_filename == \"first_sample\":\n",
    "    plt.legend([\"PV: Cl-0\", \"Fitted Line\"])\n",
    "elif input_filename == \"second_sample\":\n",
    "    plt.legend([\"PV: Cl-0.5\", \"Fitted Line\"])\n",
    "elif input_filename == \"third_sample\":\n",
    "    plt.legend([\"PV: Cl-1\", \"Fitted Line\"])\n",
    "    \n",
    "plt.yscale(\"log\") #Assign the y-scale to become a log scale\n",
    "\n",
    "plt.xscale(\"log\")\n",
    "#Fitting the Data\n",
    "popt, pcov = curve_fit(func, xData, yData) #intial guesses can be written after the yData\n",
    "plt.plot(xFit, func(xFit, *popt), 'r')\n",
    "\n",
    "#Outputting the fitted Trap and Constant Values\n",
    "# for i in range(2):\n",
    "#     if (i == 0):\n",
    "#         print(\"This is the trap density value: \" + str(popt[i]))\n",
    "#     else:\n",
    "#         print(\"This is the constant value: \"+ str(popt[i]))\n",
    "\n",
    "print(popt)"
   ]
  },
  {
   "cell_type": "code",
   "execution_count": 38,
   "metadata": {},
   "outputs": [
    {
     "name": "stdout",
     "output_type": "stream",
     "text": [
      "Insert the file name: 075_newsample\n",
      "[1. 1.]\n"
     ]
    },
    {
     "name": "stderr",
     "output_type": "stream",
     "text": [
      "C:\\Users\\micha\\Anaconda2\\envs\\p36workshop\\lib\\site-packages\\scipy\\optimize\\minpack.py:808: OptimizeWarning: Covariance of the parameters could not be estimated\n",
      "  category=OptimizeWarning)\n"
     ]
    },
    {
     "data": {
      "image/png": "[encoded data removed]",
      "text/plain": [
       "<Figure size 432x288 with 1 Axes>"
      ]
     },
     "metadata": {
      "needs_background": "light"
     },
     "output_type": "display_data"
    }
   ],
   "source": [
    "#075 NEW SAMPLEEEEEEEE\n",
    "#Reading the file of the data\n",
    "input_filename = input(\"Insert the file name: \")\n",
    "data  = pd.read_csv(\"{0}.csv\".format(input_filename))\n",
    "\n",
    "#Assinging the function and variables\n",
    "def func(x,a,k):\n",
    "    #return (A*10**17*(np.exp(-x/b))+k)\n",
    "    return (((4.21160511917628*10**15)*(1-np.exp(-1*a*x/k))))\n",
    "#179.68773879, 23.6877995\n",
    "\n",
    "yData = data.carrier_density\n",
    "# for i in range(20):\n",
    "#     yData[i] = yData[i]*10**17\n",
    "    \n",
    "yData = yData[0:4]\n",
    "xData = data.time_pl\n",
    "# for i in range(8):\n",
    "#     xData[i] = xData[i]/xData[7]\n",
    "    \n",
    "\n",
    "xData = xData[0:4]    \n",
    "xFit = xData\n",
    "\n",
    "\n",
    "#Plotting the Data\n",
    "plt.plot(xData, yData, 'bo', label = \"experimental-data\" )\n",
    "plt.xlabel(\"Time-Integrated PL Intensity (arbs. unit)\")\n",
    "plt.ylabel(\"Carrier Density (cm^-3)\")\n",
    "\n",
    "# if input_filename == \"first_sample\":\n",
    "#     plt.legend([\"PV: Cl-0\", \"Fitted Line\"])\n",
    "# elif input_filename == \"second_sample\":\n",
    "#     plt.legend([\"PV: Cl-0.5\", \"Fitted Line\"])\n",
    "# elif input_filename == \"third_sample\":\n",
    "#     plt.legend([\"PV: Cl-1\", \"Fitted Line\"])\n",
    "    \n",
    "plt.yscale(\"log\") #Assign the y-scale to become a log scale\n",
    "#plt.xscale(\"log\")\n",
    "\n",
    "#Fitting the Data\n",
    "popt, pcov = curve_fit(func, xData, yData) #intial guesses can be written after the yData\n",
    "#plt.plot(xFit, func(xFit, *popt), 'r')\n",
    "\n",
    "#Outputting the fitted Trap and Constant Values\n",
    "# for i in range(2):\n",
    "#     if (i == 0):\n",
    "#         print(\"This is the trap density value: \" + str(popt[i]))\n",
    "#     else:\n",
    "#         print(\"This is the constant value: \"+ str(popt[i]))\n",
    "\n",
    "print(popt)"
   ]
  }
 ],
 "metadata": {
  "kernelspec": {
   "display_name": "p36workshop",
   "language": "python",
   "name": "p36workshop"
  },
  "language_info": {
   "codemirror_mode": {
    "name": "ipython",
    "version": 3
   },
   "file_extension": ".py",
   "mimetype": "text/x-python",
   "name": "python",
   "nbconvert_exporter": "python",
   "pygments_lexer": "ipython3",
   "version": "3.6.10"
  }
 },
 "nbformat": 4,
 "nbformat_minor": 2
}
