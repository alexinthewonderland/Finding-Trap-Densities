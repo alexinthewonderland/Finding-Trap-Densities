{
 "cells": [
  {
   "cell_type": "code",
   "execution_count": 1,
   "metadata": {},
   "outputs": [],
   "source": [
    "from matplotlib import pyplot as plt\n",
    "from scipy.optimize import curve_fit\n",
    "import numpy as np\n",
    "import pandas as pd"
   ]
  },
  {
   "cell_type": "code",
   "execution_count": 72,
   "metadata": {},
   "outputs": [
    {
     "name": "stdout",
     "output_type": "stream",
     "text": [
      "Insert the file name: 075_newsample\n",
      "[ 8.94688106 39.19188572]\n"
     ]
    },
    {
     "data": {
      "image/png": "[encoded data removed]",
      "text/plain": [
       "<Figure size 432x288 with 1 Axes>"
      ]
     },
     "metadata": {
      "needs_background": "light"
     },
     "output_type": "display_data"
    }
   ],
   "source": [
    "#Reading the file of the data\n",
    "input_filename = input(\"Insert the file name: \")\n",
    "data  = pd.read_csv(\"{0}.csv\".format(input_filename))\n",
    "\n",
    "#Assinging the function and variables\n",
    "def func(x,b,k):\n",
    "    #return (trap_density*(1-np.exp(-1*constant*x)))\n",
    "    return (((1.77763103704106*10**17)*(1-np.exp(-1*b*x/k))))\n",
    "\n",
    "yData = data.carrier_density\n",
    "xData = data.time_pl\n",
    "\n",
    "#Normalizing the x-axis\n",
    "for i in range(8):\n",
    "    xData[i] = xData[i]/xData[7]\n",
    "\n",
    "    \n",
    "xData = xData[3:8]\n",
    "yData = yData[3:8]\n",
    "xFit = xData\n",
    "\n",
    "\n",
    "\n",
    "#Plotting the Data\n",
    "plt.plot(xData, yData, 'bo', label = \"experimental-data\" )\n",
    "\n",
    "\n",
    "\n",
    "\n",
    "plt.xlabel(\"Time-Integrated PL Intensity (arbs. unit)\")\n",
    "plt.ylabel(\"Carrier Density (cm^-3)\")\n",
    "\n",
    "# if input_filename == \"first_sample\":\n",
    "#     plt.legend([\"PV: Cl-0\", \"Fitted Line\"])\n",
    "# elif input_filename == \"second_sample\":\n",
    "#     plt.legend([\"PV: Cl-0.5\", \"Fitted Line\"])\n",
    "# elif input_filename == \"third_sample\":\n",
    "#     plt.legend([\"PV: Cl-1\", \"Fitted Line\"])\n",
    "    \n",
    "plt.yscale(\"log\") #Assign the y-scale to become a log scale\n",
    "plt.xscale(\"log\")\n",
    "#Fitting the Data\n",
    "popt, pcov = curve_fit(func, xData, yData) #intial guesses can be written after the yData\n",
    "plt.plot(xFit, func(xFit, *popt), 'r')\n",
    "\n",
    "#Outputting the fitted Trap and Constant Values\n",
    "# for i in range(2):\n",
    "#     if (i == 0):\n",
    "#         print(\"This is the trap density value: \" + str(popt[i]))\n",
    "#     else:\n",
    "#         print(\"This is the constant value: \"+ str(popt[i]))\n",
    "\n",
    "print(popt)\n",
    "\n",
    "#Measure the slope --> don't quite understand this yet. Slow trap only activated when th intesnity pretty high "
   ]
  },
  {
   "cell_type": "code",
   "execution_count": 64,
   "metadata": {
    "scrolled": true
   },
   "outputs": [
    {
     "name": "stdout",
     "output_type": "stream",
     "text": [
      "Insert the file name: 075_newsample\n",
      "[3.49614648 3.49662919]\n"
     ]
    },
    {
     "data": {
      "image/png": "[encoded data removed]",
      "text/plain": [
       "<Figure size 432x288 with 1 Axes>"
      ]
     },
     "metadata": {
      "needs_background": "light"
     },
     "output_type": "display_data"
    }
   ],
   "source": [
    "##### Reading the file of the data\n",
    "input_filename = input(\"Insert the file name: \")\n",
    "data  = pd.read_csv(\"{0}.csv\".format(input_filename))\n",
    "\n",
    "#Assinging the function and variables\n",
    "def func(x,a,b):\n",
    "    #return (trap_density*(1-np.exp(-1*constant*x)))\n",
    "    return (((2.294*10**17)*(1-np.exp(-1*x*a/6.45028651e+05))))+((4.523*10**15)*(1-np.exp(-1*x*b/6.45028651e+05))+(x*10**17/6.45028651e+05))\n",
    "\n",
    "yData = data.carrier_density\n",
    "xData = data.time_pl\n",
    "\n",
    "# #Normalizing the x-axis\n",
    "# for i in range(8):\n",
    "#     xData[i] = xData[i]/xData[7]\n",
    "\n",
    "    \n",
    "# xData = xData[0:3]\n",
    "# yData = yData[0:3]\n",
    "xFit = xData\n",
    "\n",
    "\n",
    "\n",
    "#Plotting the Data\n",
    "plt.plot(xData, yData, 'bo', label = \"experimental-data\" )\n",
    "\n",
    "\n",
    "\n",
    "\n",
    "plt.xlabel(\"Time-Integrated PL Intensity (arbs. unit)\")\n",
    "plt.ylabel(\"Carrier Density (cm^-3)\")\n",
    "\n",
    "# if input_filename == \"first_sample\":\n",
    "#     plt.legend([\"PV: Cl-0\", \"Fitted Line\"])\n",
    "# elif input_filename == \"second_sample\":\n",
    "#     plt.legend([\"PV: Cl-0.5\", \"Fitted Line\"])\n",
    "# elif input_filename == \"third_sample\":\n",
    "#     plt.legend([\"PV: Cl-1\", \"Fitted Line\"])\n",
    "    \n",
    "plt.yscale(\"log\") #Assign the y-scale to become a log scale\n",
    "#plt.xscale(\"log\")\n",
    "#Fitting the Data\n",
    "popt, pcov = curve_fit(func, xData, yData,[2,4]) #intial guesses can be written after the yData\n",
    "plt.plot(xData, func(xData, *popt), 'r')\n",
    "\n",
    "#Outputting the fitted Trap and Constant Values\n",
    "# for i in range(2):\n",
    "#     if (i == 0):\n",
    "#         print(\"This is the trap density value: \" + str(popt[i]))\n",
    "#     else:\n",
    "#         print(\"This is the constant value: \"+ str(popt[i]))\n",
    "\n",
    "print(popt)\n",
    "\n",
    "#Measure the slope, slow trap only activated when th intesnity pretty high"
   ]
  },
  {
   "cell_type": "code",
   "execution_count": 4,
   "metadata": {},
   "outputs": [
    {
     "name": "stdout",
     "output_type": "stream",
     "text": [
      "Insert the file name: 075_sample\n"
     ]
    },
    {
     "name": "stderr",
     "output_type": "stream",
     "text": [
      "C:\\Users\\micha\\Anaconda2\\envs\\p36workshop\\lib\\site-packages\\scipy\\optimize\\minpack.py:808: OptimizeWarning: Covariance of the parameters could not be estimated\n",
      "  category=OptimizeWarning)\n"
     ]
    },
    {
     "name": "stdout",
     "output_type": "stream",
     "text": [
      "[0.13914812 1.        ]\n"
     ]
    },
    {
     "data": {
      "image/png": "[encoded data removed]",
      "text/plain": [
       "<Figure size 432x288 with 1 Axes>"
      ]
     },
     "metadata": {
      "needs_background": "light"
     },
     "output_type": "display_data"
    }
   ],
   "source": [
    "#FOR THE PREVIOUS 075 SAMPLE\n",
    "\n",
    "#Reading the file of the data\n",
    "input_filename = input(\"Insert the file name: \")\n",
    "data  = pd.read_csv(\"{0}.csv\".format(input_filename))\n",
    "\n",
    "#Assinging the function and variables\n",
    "def func(x,trap_density,b):\n",
    "    #return (trap_density*(1-np.exp(-1*constant*x)))\n",
    "    return (((trap_density*10**15)*(1-np.exp(-1*b*x))))\n",
    "\n",
    "yData = data.carrier_density\n",
    "xData = data.time_pl\n",
    "\n",
    "# #Normalizing the x-axis\n",
    "# for i in range(5):\n",
    "#     xData[i] = xData[i]/xData[4]\n",
    "\n",
    "    \n",
    "# xData = xData[3:8]\n",
    "# yData = yData[3:8]\n",
    "xFit = xData\n",
    "\n",
    "\n",
    "\n",
    "#Plotting the Data\n",
    "plt.plot(xData, yData, 'bo', label = \"experimental-data\" )\n",
    "\n",
    "\n",
    "plt.xlabel(\"Time-Integrated PL Intensity (arbs. unit)\")\n",
    "plt.ylabel(\"Carrier Density (cm^-3)\")\n",
    "\n",
    "# if input_filename == \"first_sample\":\n",
    "#     plt.legend([\"PV: Cl-0\", \"Fitted Line\"])\n",
    "# elif input_filename == \"second_sample\":\n",
    "#     plt.legend([\"PV: Cl-0.5\", \"Fitted Line\"])\n",
    "# elif input_filename == \"third_sample\":\n",
    "#     plt.legend([\"PV: Cl-1\", \"Fitted Line\"])\n",
    "    \n",
    "plt.yscale(\"log\") #Assign the y-scale to become a log scale\n",
    "plt.xscale(\"log\")\n",
    "#Fitting the Data\n",
    "popt, pcov = curve_fit(func, xData, yData) #intial guesses can be written after the yData\n",
    "plt.plot(xFit, func(xFit, *popt), 'r')\n",
    "\n",
    "#Outputting the fitted Trap and Constant Values\n",
    "# for i in range(2):\n",
    "#     if (i == 0):\n",
    "#         print(\"This is the trap density value: \" + str(popt[i]))\n",
    "#     else:\n",
    "#         print(\"This is the constant value: \"+ str(popt[i]))\n",
    "\n",
    "print(popt)\n",
    "\n",
    "#Measure the slope, slow trap only activated when th intesnity pretty high"
   ]
  },
  {
   "cell_type": "code",
   "execution_count": 16,
   "metadata": {},
   "outputs": [
    {
     "name": "stdout",
     "output_type": "stream",
     "text": [
      "Insert the file name: 075_sample\n",
      "[-2.39435654  0.41823975]\n"
     ]
    },
    {
     "data": {
      "image/png": "[encoded data removed]",
      "text/plain": [
       "<Figure size 432x288 with 1 Axes>"
      ]
     },
     "metadata": {
      "needs_background": "light"
     },
     "output_type": "display_data"
    }
   ],
   "source": [
    "#THIS IS FOR THE PREVIOUS 075 SAMPLE AS TO WHY BIEXPO GROW DOES NOT WORK\n",
    "#Reading the file of the data\n",
    "input_filename = input(\"Insert the file name: \")\n",
    "data  = pd.read_csv(\"{0}.csv\".format(input_filename))\n",
    "\n",
    "#Assinging the function and variables\n",
    "def func(x, fasttrap,c):\n",
    "    #return (trap_density*(1-np.exp(-1*constant*x)))\n",
    "    return (((1.06197516*10**15)*(1-np.exp(-1*186.74596259*x/452.05870684)))+((fasttrap*10**15)*(1-np.exp(-1*c*x/452.05870684)))+(x/452.05870684)*10**15)\n",
    "\n",
    "yData = data.carrier_density\n",
    "xData = data.time_pl\n",
    "xFit = data.time_pl\n",
    "\n",
    "#Normalizing the x-axis\n",
    "for i in range(5):\n",
    "    xData[i] = xData[i]/xData[4]\n",
    "    \n",
    "xFit = xData\n",
    "\n",
    "#Plotting the Data\n",
    "plt.plot(xData, yData, 'bo', label = \"experimental-data\" )\n",
    "\n",
    "\n",
    "\n",
    "\n",
    "plt.xlabel(\"Time-Integrated PL Intensity (Normalized)\")\n",
    "plt.ylabel(\"Carrier Density (cm^-3)\")\n",
    "\n",
    "# if input_filename == \"first_sample\":\n",
    "#     plt.legend([\"PV: Cl-0\", \"Fitted Line\"])\n",
    "# elif input_filename == \"second_sample\":\n",
    "#     plt.legend([\"PV: Cl-0.5\", \"Fitted Line\"])\n",
    "# elif input_filename == \"third_sample\":\n",
    "#     plt.legend([\"PV: Cl-1\", \"Fitted Line\"])\n",
    "    \n",
    "plt.yscale(\"log\") #Assign the y-scale to become a log scale\n",
    "plt.xscale(\"log\")\n",
    "#Fitting the Data\n",
    "popt, pcov = curve_fit(func, xData, yData) #intial guesses can be written after the yData\n",
    "plt.plot(xData, func(xFit, *popt), 'r')\n",
    "\n",
    "#Outputting the fitted Trap and Constant Values\n",
    "# for i in range(2):\n",
    "#     if (i == 0):\n",
    "#         print(\"This is the trap density value: \" + str(popt[i]))\n",
    "#     else:\n",
    "#         print(\"This is the constant value: \"+ str(popt[i]))\n",
    "\n",
    "print(popt)"
   ]
  },
  {
   "cell_type": "code",
   "execution_count": null,
   "metadata": {},
   "outputs": [],
   "source": []
  }
 ],
 "metadata": {
  "kernelspec": {
   "display_name": "Python 3 (ipykernel)",
   "language": "python",
   "name": "python3"
  },
  "language_info": {
   "codemirror_mode": {
    "name": "ipython",
    "version": 3
   },
   "file_extension": ".py",
   "mimetype": "text/x-python",
   "name": "python",
   "nbconvert_exporter": "python",
   "pygments_lexer": "ipython3",
   "version": "3.9.12"
  }
 },
 "nbformat": 4,
 "nbformat_minor": 2
}
